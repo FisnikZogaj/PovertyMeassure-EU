{
 "cells": [
  {
   "attachments": {},
   "cell_type": "markdown",
   "id": "b3458bd2",
   "metadata": {},
   "source": [
    "This Project uses AMALIA data for generalized Linear Models for Poverty indicators in the EU.\n",
    "Thechniques used: \n",
    "\n",
    "- leastsquares\n",
    "- logit-regression\n",
    "- multinomial regression \n",
    "- poisson regression \n",
    "\n",
    "The Data-set is a synthetic Data-set called AMELIA (source), which aims to replicate the EU-Silc Data, but with the advantage of Open use. \n",
    "\n",
    "For Further Information on AMELIA:\n",
    "\n",
    "- Data: http://amelia.uni-trier.de/?p=287\n",
    "- Description: http://amelia.uni-trier.de/wp-content/uploads/2020/01/AMELIA_Data_Description_v0.2.3.1.pdf\n",
    "- AMELIA-Paper: https://link.springer.com/content/pdf/10.1007/s11943-017-0214-8.pdf?pdf=button"
   ]
  },
  {
   "cell_type": "code",
   "execution_count": 1,
   "id": "4a4906e1",
   "metadata": {
    "vscode": {
     "languageId": "r"
    }
   },
   "outputs": [
    {
     "name": "stderr",
     "output_type": "stream",
     "text": [
      "Warning message:\n",
      "\"package 'dplyr' was built under R version 4.1.3\"\n",
      "\n",
      "Attaching package: 'dplyr'\n",
      "\n",
      "\n",
      "The following objects are masked from 'package:stats':\n",
      "\n",
      "    filter, lag\n",
      "\n",
      "\n",
      "The following objects are masked from 'package:base':\n",
      "\n",
      "    intersect, setdiff, setequal, union\n",
      "\n",
      "\n",
      "Warning message:\n",
      "\"package 'magrittr' was built under R version 4.1.3\"\n",
      "Warning message:\n",
      "\"package 'DescTools' was built under R version 4.1.3\"\n"
     ]
    }
   ],
   "source": [
    "setwd(\"C:/Users/zogaj/Bachelorarbeit/R/AMELIA_HH_level_v0.2.3\")\n",
    "library(dplyr)\n",
    "library(magrittr)\n",
    "library(DescTools)\n",
    "library(dplyr)"
   ]
  },
  {
   "cell_type": "code",
   "execution_count": 2,
   "id": "22cb4e31",
   "metadata": {
    "vscode": {
     "languageId": "r"
    }
   },
   "outputs": [],
   "source": [
    "vars <- c(\"HID\",\"EHHS\",\"EDI\",\"HY060\",\"HY070\", \n",
    "          \"HS010\",\"HS020\",\"HS030\",\"HS040\",\"HS050\",\"HS060\",\"HH050\", \n",
    "          \"HS070\",\"HS080\",\"HS100\",\"HS110\",      \n",
    "          \"HY090\",\"HY040\")\n",
    "\n",
    "####################################\n",
    "############ Load the Datat ########\n",
    "####################################\n",
    "\n",
    "prefix <- \"C:/Users/zogaj/Bachelorarbeit/R/AMELIA_HH_level_v0.2.3/HAML.\"\n",
    "sufix <- \"_v0.2.3.RData\"\n",
    "\n",
    "for (v in vars){\n",
    "  load(paste(prefix,sufix,sep=v))\n",
    "}\n",
    "rm(prefix,sufix,v)"
   ]
  },
  {
   "cell_type": "markdown",
   "id": "d815c636",
   "metadata": {},
   "source": [
    "VarDesc"
   ]
  },
  {
   "cell_type": "code",
   "execution_count": 3,
   "id": "c793426b",
   "metadata": {
    "vscode": {
     "languageId": "r"
    }
   },
   "outputs": [],
   "source": [
    "df_house <- data.frame(matrix(0, nrow = 3781289, ncol = 1))\n",
    "\n",
    "for (v in vars){\n",
    "  df_house[v] <- get(v)\n",
    "}\n",
    "\n",
    "df_house[1] <- NULL"
   ]
  },
  {
   "cell_type": "code",
   "execution_count": 4,
   "id": "0a4eae66",
   "metadata": {
    "vscode": {
     "languageId": "r"
    }
   },
   "outputs": [
    {
     "data": {
      "text/html": [
       "<table class=\"dataframe\">\n",
       "<caption>A data.frame: 6 × 18</caption>\n",
       "<thead>\n",
       "\t<tr><th></th><th scope=col>HID</th><th scope=col>EHHS</th><th scope=col>EDI</th><th scope=col>HY060</th><th scope=col>HY070</th><th scope=col>HS010</th><th scope=col>HS020</th><th scope=col>HS030</th><th scope=col>HS040</th><th scope=col>HS050</th><th scope=col>HS060</th><th scope=col>HH050</th><th scope=col>HS070</th><th scope=col>HS080</th><th scope=col>HS100</th><th scope=col>HS110</th><th scope=col>HY090</th><th scope=col>HY040</th></tr>\n",
       "\t<tr><th></th><th scope=col>&lt;int&gt;</th><th scope=col>&lt;dbl&gt;</th><th scope=col>&lt;dbl&gt;</th><th scope=col>&lt;dbl&gt;</th><th scope=col>&lt;dbl&gt;</th><th scope=col>&lt;fct&gt;</th><th scope=col>&lt;fct&gt;</th><th scope=col>&lt;fct&gt;</th><th scope=col>&lt;fct&gt;</th><th scope=col>&lt;fct&gt;</th><th scope=col>&lt;fct&gt;</th><th scope=col>&lt;fct&gt;</th><th scope=col>&lt;fct&gt;</th><th scope=col>&lt;fct&gt;</th><th scope=col>&lt;fct&gt;</th><th scope=col>&lt;fct&gt;</th><th scope=col>&lt;dbl&gt;</th><th scope=col>&lt;dbl&gt;</th></tr>\n",
       "</thead>\n",
       "<tbody>\n",
       "\t<tr><th scope=row>1</th><td>1</td><td>1.6</td><td>  611.4260</td><td>  0.0000</td><td>    0.00</td><td>2</td><td>2</td><td>2</td><td>2</td><td>2</td><td>2</td><td>2</td><td>1</td><td>1</td><td>1</td><td>3</td><td>237.2729</td><td>0</td></tr>\n",
       "\t<tr><th scope=row>2</th><td>2</td><td>1.5</td><td>33888.3986</td><td>  0.0000</td><td>    0.00</td><td>1</td><td>1</td><td>1</td><td>1</td><td>1</td><td>1</td><td>1</td><td>1</td><td>1</td><td>1</td><td>1</td><td>229.1392</td><td>0</td></tr>\n",
       "\t<tr><th scope=row>3</th><td>3</td><td>1.5</td><td>63275.8467</td><td>575.6191</td><td>    0.00</td><td>1</td><td>1</td><td>1</td><td>1</td><td>1</td><td>1</td><td>1</td><td>1</td><td>1</td><td>1</td><td>1</td><td>418.5650</td><td>0</td></tr>\n",
       "\t<tr><th scope=row>4</th><td>4</td><td>2.1</td><td>30314.4325</td><td>217.3636</td><td>10210.72</td><td>1</td><td>1</td><td>1</td><td>1</td><td>1</td><td>1</td><td>1</td><td>1</td><td>1</td><td>1</td><td>1</td><td>  0.0000</td><td>0</td></tr>\n",
       "\t<tr><th scope=row>5</th><td>5</td><td>2.0</td><td> -179.0461</td><td>  0.0000</td><td>    0.00</td><td>1</td><td>1</td><td>1</td><td>2</td><td>1</td><td>2</td><td>1</td><td>1</td><td>1</td><td>1</td><td>2</td><td>  0.0000</td><td>0</td></tr>\n",
       "\t<tr><th scope=row>6</th><td>6</td><td>1.0</td><td>17732.3175</td><td>  0.0000</td><td>    0.00</td><td>2</td><td>2</td><td>2</td><td>1</td><td>1</td><td>1</td><td>1</td><td>1</td><td>3</td><td>3</td><td>3</td><td>  0.0000</td><td>0</td></tr>\n",
       "</tbody>\n",
       "</table>\n"
      ],
      "text/latex": [
       "A data.frame: 6 × 18\n",
       "\\begin{tabular}{r|llllllllllllllllll}\n",
       "  & HID & EHHS & EDI & HY060 & HY070 & HS010 & HS020 & HS030 & HS040 & HS050 & HS060 & HH050 & HS070 & HS080 & HS100 & HS110 & HY090 & HY040\\\\\n",
       "  & <int> & <dbl> & <dbl> & <dbl> & <dbl> & <fct> & <fct> & <fct> & <fct> & <fct> & <fct> & <fct> & <fct> & <fct> & <fct> & <fct> & <dbl> & <dbl>\\\\\n",
       "\\hline\n",
       "\t1 & 1 & 1.6 &   611.4260 &   0.0000 &     0.00 & 2 & 2 & 2 & 2 & 2 & 2 & 2 & 1 & 1 & 1 & 3 & 237.2729 & 0\\\\\n",
       "\t2 & 2 & 1.5 & 33888.3986 &   0.0000 &     0.00 & 1 & 1 & 1 & 1 & 1 & 1 & 1 & 1 & 1 & 1 & 1 & 229.1392 & 0\\\\\n",
       "\t3 & 3 & 1.5 & 63275.8467 & 575.6191 &     0.00 & 1 & 1 & 1 & 1 & 1 & 1 & 1 & 1 & 1 & 1 & 1 & 418.5650 & 0\\\\\n",
       "\t4 & 4 & 2.1 & 30314.4325 & 217.3636 & 10210.72 & 1 & 1 & 1 & 1 & 1 & 1 & 1 & 1 & 1 & 1 & 1 &   0.0000 & 0\\\\\n",
       "\t5 & 5 & 2.0 &  -179.0461 &   0.0000 &     0.00 & 1 & 1 & 1 & 2 & 1 & 2 & 1 & 1 & 1 & 1 & 2 &   0.0000 & 0\\\\\n",
       "\t6 & 6 & 1.0 & 17732.3175 &   0.0000 &     0.00 & 2 & 2 & 2 & 1 & 1 & 1 & 1 & 1 & 3 & 3 & 3 &   0.0000 & 0\\\\\n",
       "\\end{tabular}\n"
      ],
      "text/markdown": [
       "\n",
       "A data.frame: 6 × 18\n",
       "\n",
       "| <!--/--> | HID &lt;int&gt; | EHHS &lt;dbl&gt; | EDI &lt;dbl&gt; | HY060 &lt;dbl&gt; | HY070 &lt;dbl&gt; | HS010 &lt;fct&gt; | HS020 &lt;fct&gt; | HS030 &lt;fct&gt; | HS040 &lt;fct&gt; | HS050 &lt;fct&gt; | HS060 &lt;fct&gt; | HH050 &lt;fct&gt; | HS070 &lt;fct&gt; | HS080 &lt;fct&gt; | HS100 &lt;fct&gt; | HS110 &lt;fct&gt; | HY090 &lt;dbl&gt; | HY040 &lt;dbl&gt; |\n",
       "|---|---|---|---|---|---|---|---|---|---|---|---|---|---|---|---|---|---|---|\n",
       "| 1 | 1 | 1.6 |   611.4260 |   0.0000 |     0.00 | 2 | 2 | 2 | 2 | 2 | 2 | 2 | 1 | 1 | 1 | 3 | 237.2729 | 0 |\n",
       "| 2 | 2 | 1.5 | 33888.3986 |   0.0000 |     0.00 | 1 | 1 | 1 | 1 | 1 | 1 | 1 | 1 | 1 | 1 | 1 | 229.1392 | 0 |\n",
       "| 3 | 3 | 1.5 | 63275.8467 | 575.6191 |     0.00 | 1 | 1 | 1 | 1 | 1 | 1 | 1 | 1 | 1 | 1 | 1 | 418.5650 | 0 |\n",
       "| 4 | 4 | 2.1 | 30314.4325 | 217.3636 | 10210.72 | 1 | 1 | 1 | 1 | 1 | 1 | 1 | 1 | 1 | 1 | 1 |   0.0000 | 0 |\n",
       "| 5 | 5 | 2.0 |  -179.0461 |   0.0000 |     0.00 | 1 | 1 | 1 | 2 | 1 | 2 | 1 | 1 | 1 | 1 | 2 |   0.0000 | 0 |\n",
       "| 6 | 6 | 1.0 | 17732.3175 |   0.0000 |     0.00 | 2 | 2 | 2 | 1 | 1 | 1 | 1 | 1 | 3 | 3 | 3 |   0.0000 | 0 |\n",
       "\n"
      ],
      "text/plain": [
       "  HID EHHS EDI        HY060    HY070    HS010 HS020 HS030 HS040 HS050 HS060\n",
       "1 1   1.6    611.4260   0.0000     0.00 2     2     2     2     2     2    \n",
       "2 2   1.5  33888.3986   0.0000     0.00 1     1     1     1     1     1    \n",
       "3 3   1.5  63275.8467 575.6191     0.00 1     1     1     1     1     1    \n",
       "4 4   2.1  30314.4325 217.3636 10210.72 1     1     1     1     1     1    \n",
       "5 5   2.0   -179.0461   0.0000     0.00 1     1     1     2     1     2    \n",
       "6 6   1.0  17732.3175   0.0000     0.00 2     2     2     1     1     1    \n",
       "  HH050 HS070 HS080 HS100 HS110 HY090    HY040\n",
       "1 2     1     1     1     3     237.2729 0    \n",
       "2 1     1     1     1     1     229.1392 0    \n",
       "3 1     1     1     1     1     418.5650 0    \n",
       "4 1     1     1     1     1       0.0000 0    \n",
       "5 1     1     1     1     2       0.0000 0    \n",
       "6 1     1     3     3     3       0.0000 0    "
      ]
     },
     "metadata": {},
     "output_type": "display_data"
    }
   ],
   "source": [
    "head(df_house)"
   ]
  },
  {
   "cell_type": "code",
   "execution_count": 5,
   "id": "5f9c8d65",
   "metadata": {
    "vscode": {
     "languageId": "r"
    }
   },
   "outputs": [],
   "source": [
    "#Dummy for every HH wich is at risk of poverty (one-hot-encoding)\n",
    "\n",
    "poverty_border <- median(df_house$EDI) * 0.6\n",
    "arp <- as.numeric(df_house$EDI <= poverty_border)\n",
    "df_house[\"at_risk_poverty\"] <- arp\n",
    "arp_table <-table(arp)"
   ]
  },
  {
   "cell_type": "markdown",
   "id": "e6a81e80",
   "metadata": {},
   "source": [
    "the way of re-coding is desinged for **counting \"depriviations\"**, so that the interpretation for the regressions\n",
    "becomes more \"intuitive\" and standardized \n",
    "\n",
    "- HS060: can face sudden finacial expenses; (1 if no)\n",
    "- HS040: Holiday affoard; (1 if no) \n",
    "- HS010 - HS030: arrears on ... {010: Mortgage or Rent, 020: utilitybills,030: purchase instalments}; (1 if yes)\n",
    "- HS050: can affoard protein Meal twice a week; (1 if no)\n",
    "- HH050: keep House warm; (1 if no)\n",
    "\n",
    "The original encoding is: *1 : yes* and *2 : no*"
   ]
  },
  {
   "cell_type": "code",
   "execution_count": 6,
   "id": "ea93d854",
   "metadata": {
    "vscode": {
     "languageId": "r"
    }
   },
   "outputs": [],
   "source": [
    "###############\n",
    "# Relabel #####\n",
    "#########################################################################################\n",
    "# this section will change all the Factor-Variables to nummeric, for re-assinging values#\n",
    "indx <- sapply(df_house, is.factor) #get colidx for each factorvariable                 #\n",
    "                         #df_columns     aplly custom func to the cols; x = col         #\n",
    "df_house[indx] <- lapply(df_house[indx], function(x) as.numeric(x))                     #\n",
    "#########################################################################################\n",
    "\n",
    "two_to_zero <- c(\"HS010\", \"HS020\", \"HS030\") #arrears 2: no, 1: yes \n",
    "vec_minus_1 <- c(\"HS040\", \"HS050\", \"HH050\", \"HS060\") # capacity _X_ 1:yes, 2: no\n",
    "\n",
    "# Here the items (arrears) will change \n",
    "# so the struggle (1) stays 1 but the no struggle (2) becomes 0 \n",
    "df_house[two_to_zero][df_house[two_to_zero] == 2] <-0\n",
    "\n",
    "# Here the capacity-items (meal, housewarm, holiday, sudden expenses) (no = 2; yes = 1) \n",
    "# will be subtracted with one so the values change adequately -> no capacity (2) - 1 = 1 for struggle \n",
    "# yes,has capacity (1) - 1 = 0 for no struggle \n",
    "df_house[vec_minus_1] <- df_house[vec_minus_1] - 1"
   ]
  },
  {
   "cell_type": "code",
   "execution_count": 7,
   "id": "a0383011",
   "metadata": {
    "vscode": {
     "languageId": "r"
    }
   },
   "outputs": [],
   "source": [
    "#############################\n",
    "### Material Deprivation ####\n",
    "#############################\n",
    "\n",
    "# \"Severe material deprivation rate is \n",
    "# defined as the enforced inability to pay for at least four items\"\n",
    "n_cant_affoard <- rowSums(cbind(as.numeric((df_house$HS070 == 2)), #cant affoard telephone\n",
    "                                as.numeric((df_house$HS080 == 2)), #...TV\n",
    "                                as.numeric((df_house$HS100 == 2)), #...washmachine\n",
    "                                as.numeric((df_house$HS110 == 2))))#...car\n",
    "\n",
    "\n",
    "#arrears of any kind; if > 0 means, that person has at least 1 arrear on ___, \n",
    "#aggregated, so it matches the 9 criteria from SILC instead of 11\n",
    "arrears <- as.numeric(rowSums(cbind(df_house$HS010,df_house$HS020, df_house$HS030)) > 0)\n",
    "#df_house[\"arrears\"] <- arrears \n",
    "\n",
    "n_no_capacities <- rowSums(cbind(df_house$HS040, df_house$HS050,\n",
    "                                 df_house$HS060, df_house$HH050))\n",
    "\n",
    "total <- n_no_capacities + n_cant_affoard + arrears"
   ]
  },
  {
   "cell_type": "code",
   "execution_count": 8,
   "id": "bc9bc269",
   "metadata": {
    "vscode": {
     "languageId": "r"
    }
   },
   "outputs": [],
   "source": [
    "t_table <- table(total)\n",
    "matDep <- as.numeric(total > 3)\n",
    "df_house[\"Material_deprivation\"] <- matDep"
   ]
  },
  {
   "cell_type": "code",
   "execution_count": 9,
   "id": "5314a120",
   "metadata": {
    "vscode": {
     "languageId": "r"
    }
   },
   "outputs": [
    {
     "data": {
      "image/png": "[encoded data removed]",
      "text/plain": [
       "Plot with title \"At risk of Poverty\""
      ]
     },
     "metadata": {
      "image/png": {
       "height": 420,
       "width": 420
      }
     },
     "output_type": "display_data"
    }
   ],
   "source": [
    "par(mfrow = c(2,1))\n",
    "barplot(t_table, main = \"Material Deprivation\", xlab = \"Number of Deprivations\")\n",
    "barplot(arp_table,names.arg = c(\"not at risk\", \"at risk\"), main = \"At risk of Poverty\")"
   ]
  },
  {
   "attachments": {},
   "cell_type": "markdown",
   "id": "2ece2088",
   "metadata": {},
   "source": [
    "We have two indicators for poverty, one considers the **Households Income**, and the other one considers their **material possesions**.<br>\n",
    "In the literature, it is not so clear what indicator shoul be used, so a combined approach is recommended. We take both binary-Variables and put them into a *Contingency-table*.  \n"
   ]
  },
  {
   "cell_type": "code",
   "execution_count": 10,
   "id": "18db7fab",
   "metadata": {
    "vscode": {
     "languageId": "r"
    }
   },
   "outputs": [
    {
     "data": {
      "text/plain": [
       "                 matDep\n",
       "arp               not deprived deprived\n",
       "  no poverty risk      2520465    93623\n",
       "  at poverty risk       763941   403260"
      ]
     },
     "metadata": {},
     "output_type": "display_data"
    }
   ],
   "source": [
    "poverty_lvl <- table(arp, matDep)\n",
    "rownames(poverty_lvl) <- c(\"no poverty risk\", \"at poverty risk\")\n",
    "colnames(poverty_lvl) <- c(\"not deprived\", \"deprived\")\n",
    "poverty_lvl"
   ]
  },
  {
   "cell_type": "markdown",
   "id": "ca63b619",
   "metadata": {},
   "source": [
    "From this we will create a third Variabl **povCat**. \n",
    "- 1: not deprived and not at risk of poverty\n",
    "- 2: not deprived but at risk of poverty\n",
    "- 3: deprived but not at risk of poverty\n",
    "- 4: not deprived and not at risk of poverty"
   ]
  },
  {
   "cell_type": "code",
   "execution_count": 11,
   "id": "f7c25996",
   "metadata": {
    "vscode": {
     "languageId": "r"
    }
   },
   "outputs": [
    {
     "data": {
      "text/plain": [
       "povCat\n",
       "      1       2       3       4 \n",
       "2520465  763941   93623  403260 "
      ]
     },
     "metadata": {},
     "output_type": "display_data"
    }
   ],
   "source": [
    "# Generate categories \n",
    "# at_risk_poverty   | Material_deprivation\n",
    "cat1 <- as.numeric(with(df_house, at_risk_poverty == 0 & Material_deprivation == 0))\n",
    "cat2 <- as.numeric(with(df_house, at_risk_poverty == 1 & Material_deprivation == 0)) * 2 \n",
    "cat3 <- as.numeric(with(df_house, at_risk_poverty == 0 & Material_deprivation == 1))* 3\n",
    "cat4 <- as.numeric(with(df_house, at_risk_poverty == 1 & Material_deprivation == 1))* 4\n",
    "povCat <- rowSums(cbind(cat1,cat2,cat3,cat4))\n",
    "table(povCat)"
   ]
  },
  {
   "cell_type": "code",
   "execution_count": 12,
   "id": "777a1a6b",
   "metadata": {
    "vscode": {
     "languageId": "r"
    }
   },
   "outputs": [],
   "source": [
    "EHHS <- df_house$EHHS\n",
    "EDI <- df_house$EDI\n",
    "n_dep <- total\n",
    "\n",
    "##################\n",
    "### Save Frame ########################################################################\n",
    "y_frame <- as.data.frame(cbind(povCat, matDep, arp, EHHS, EDI, n_dep))#################\n",
    "save(y_frame, file = \"C:/Users/zogaj/Bachelorarbeit/R/y_frame.RData\")##################\n",
    "#######################################################################################\n",
    "rm(list = ls()[!ls() %in% \"y_frame\"])"
   ]
  },
  {
   "cell_type": "markdown",
   "id": "7e9abc9c",
   "metadata": {},
   "source": [
    "So far we have only dealt with data on the **Household-lvl**. However there is also data available, which concerns about the **personal-lvl** of each Individual, within the household. We take this Information and aggregate it on the Household lvl via *HID-matching.*  "
   ]
  },
  {
   "cell_type": "code",
   "execution_count": 13,
   "id": "15952c73",
   "metadata": {
    "vscode": {
     "languageId": "r"
    }
   },
   "outputs": [],
   "source": [
    "#AMELIA_P_level_v0.2.3\n",
    "setwd(\"C:/Users/zogaj/Bachelorarbeit/R/AMELIA_P_level_v0.2.3\")\n",
    "\n",
    "vars <- c(\"PID\",\"HID\",\"AGE\",\"BAS\",\"SEX\",\"ISCED\",\"MST\",\"HHS\",\"PWHI\",\"INC\",\"SOC\", \n",
    "          \"PL070\",\"PL072\",\"PL090\",\"PL085\")\n",
    "\n",
    "# PL070: number of months spent at fulltimeWork\n",
    "# PL072: number of months spent at parttimeWork\n",
    "# PL085: Number of Months in retirement\n",
    "# PL087: Number of Months spent Studying\n",
    "# PL090: Number of Months spent in inactivity\n",
    "# PL087: Number of Months spent Studying\n",
    "# PL080: Number of Months spent in unemployment\n",
    "\n",
    "# PWHI: Person with highest income in Household\n",
    "# SEM: Selfemployed\n",
    "# PY090: uemp. Benefits\n",
    "# BAS: Basic activity; at Work, unemp,...\n",
    "# MST: Marital Status\n",
    "\n",
    "prefix <- \"C:/Users/zogaj/Bachelorarbeit/R/AMELIA_P_level_v0.2.3/PAML.\"\n",
    "sufix <- \"_v0.2.3.RData\"\n",
    "\n",
    "\n",
    "for (v in vars){\n",
    "  load(paste(prefix,sufix,sep=v))\n",
    "}\n",
    "rm(prefix,sufix,v)"
   ]
  },
  {
   "cell_type": "code",
   "execution_count": 14,
   "id": "ea1c948d",
   "metadata": {
    "vscode": {
     "languageId": "r"
    }
   },
   "outputs": [],
   "source": [
    "##################################\n",
    "####### Make DataFrame ###########\n",
    "##################################\n",
    "\n",
    "df_pers <- data.frame(matrix(0, nrow = 10012600, ncol = 1))\n",
    "\n",
    "#Fill empty Frame\n",
    "for (v in vars){\n",
    "  df_pers[v] <- get(v)\n",
    "}\n",
    "df_pers[1] <- NULL \n",
    "rm(list=setdiff(ls(), \"df_pers\"))"
   ]
  },
  {
   "cell_type": "code",
   "execution_count": 15,
   "id": "da15f599",
   "metadata": {
    "vscode": {
     "languageId": "r"
    }
   },
   "outputs": [
    {
     "data": {
      "text/html": [
       "<table class=\"dataframe\">\n",
       "<caption>A data.frame: 6 × 15</caption>\n",
       "<thead>\n",
       "\t<tr><th></th><th scope=col>PID</th><th scope=col>HID</th><th scope=col>AGE</th><th scope=col>BAS</th><th scope=col>SEX</th><th scope=col>ISCED</th><th scope=col>MST</th><th scope=col>HHS</th><th scope=col>PWHI</th><th scope=col>INC</th><th scope=col>SOC</th><th scope=col>PL070</th><th scope=col>PL072</th><th scope=col>PL090</th><th scope=col>PL085</th></tr>\n",
       "\t<tr><th></th><th scope=col>&lt;dbl&gt;</th><th scope=col>&lt;int&gt;</th><th scope=col>&lt;dbl&gt;</th><th scope=col>&lt;dbl&gt;</th><th scope=col>&lt;dbl&gt;</th><th scope=col>&lt;dbl&gt;</th><th scope=col>&lt;dbl&gt;</th><th scope=col>&lt;int&gt;</th><th scope=col>&lt;dbl&gt;</th><th scope=col>&lt;dbl&gt;</th><th scope=col>&lt;dbl&gt;</th><th scope=col>&lt;dbl&gt;</th><th scope=col>&lt;dbl&gt;</th><th scope=col>&lt;dbl&gt;</th><th scope=col>&lt;dbl&gt;</th></tr>\n",
       "</thead>\n",
       "<tbody>\n",
       "\t<tr><th scope=row>1</th><td>101</td><td>1</td><td>54</td><td>4</td><td>1</td><td> 3</td><td>1</td><td>3</td><td>1</td><td>    0.00</td><td>    0.0000</td><td> 0</td><td> 0</td><td>12</td><td> 0</td></tr>\n",
       "\t<tr><th scope=row>2</th><td>102</td><td>1</td><td> 8</td><td>4</td><td>1</td><td>NA</td><td>1</td><td>3</td><td>2</td><td>    0.00</td><td>    0.0000</td><td>NA</td><td>NA</td><td>NA</td><td>NA</td></tr>\n",
       "\t<tr><th scope=row>3</th><td>103</td><td>1</td><td> 6</td><td>4</td><td>2</td><td>NA</td><td>1</td><td>3</td><td>2</td><td>    0.00</td><td>    0.0000</td><td>NA</td><td>NA</td><td>NA</td><td>NA</td></tr>\n",
       "\t<tr><th scope=row>4</th><td>201</td><td>2</td><td>36</td><td>1</td><td>1</td><td> 5</td><td>2</td><td>2</td><td>1</td><td>36608.27</td><td>  120.2737</td><td>12</td><td> 0</td><td> 0</td><td> 0</td></tr>\n",
       "\t<tr><th scope=row>5</th><td>202</td><td>2</td><td>37</td><td>4</td><td>2</td><td> 4</td><td>5</td><td>2</td><td>2</td><td>15692.09</td><td>15692.0888</td><td> 0</td><td> 0</td><td> 0</td><td> 0</td></tr>\n",
       "\t<tr><th scope=row>6</th><td>301</td><td>3</td><td>61</td><td>1</td><td>1</td><td> 2</td><td>2</td><td>2</td><td>1</td><td>59044.59</td><td>  106.5939</td><td>12</td><td> 0</td><td> 0</td><td> 0</td></tr>\n",
       "</tbody>\n",
       "</table>\n"
      ],
      "text/latex": [
       "A data.frame: 6 × 15\n",
       "\\begin{tabular}{r|lllllllllllllll}\n",
       "  & PID & HID & AGE & BAS & SEX & ISCED & MST & HHS & PWHI & INC & SOC & PL070 & PL072 & PL090 & PL085\\\\\n",
       "  & <dbl> & <int> & <dbl> & <dbl> & <dbl> & <dbl> & <dbl> & <int> & <dbl> & <dbl> & <dbl> & <dbl> & <dbl> & <dbl> & <dbl>\\\\\n",
       "\\hline\n",
       "\t1 & 101 & 1 & 54 & 4 & 1 &  3 & 1 & 3 & 1 &     0.00 &     0.0000 &  0 &  0 & 12 &  0\\\\\n",
       "\t2 & 102 & 1 &  8 & 4 & 1 & NA & 1 & 3 & 2 &     0.00 &     0.0000 & NA & NA & NA & NA\\\\\n",
       "\t3 & 103 & 1 &  6 & 4 & 2 & NA & 1 & 3 & 2 &     0.00 &     0.0000 & NA & NA & NA & NA\\\\\n",
       "\t4 & 201 & 2 & 36 & 1 & 1 &  5 & 2 & 2 & 1 & 36608.27 &   120.2737 & 12 &  0 &  0 &  0\\\\\n",
       "\t5 & 202 & 2 & 37 & 4 & 2 &  4 & 5 & 2 & 2 & 15692.09 & 15692.0888 &  0 &  0 &  0 &  0\\\\\n",
       "\t6 & 301 & 3 & 61 & 1 & 1 &  2 & 2 & 2 & 1 & 59044.59 &   106.5939 & 12 &  0 &  0 &  0\\\\\n",
       "\\end{tabular}\n"
      ],
      "text/markdown": [
       "\n",
       "A data.frame: 6 × 15\n",
       "\n",
       "| <!--/--> | PID &lt;dbl&gt; | HID &lt;int&gt; | AGE &lt;dbl&gt; | BAS &lt;dbl&gt; | SEX &lt;dbl&gt; | ISCED &lt;dbl&gt; | MST &lt;dbl&gt; | HHS &lt;int&gt; | PWHI &lt;dbl&gt; | INC &lt;dbl&gt; | SOC &lt;dbl&gt; | PL070 &lt;dbl&gt; | PL072 &lt;dbl&gt; | PL090 &lt;dbl&gt; | PL085 &lt;dbl&gt; |\n",
       "|---|---|---|---|---|---|---|---|---|---|---|---|---|---|---|---|\n",
       "| 1 | 101 | 1 | 54 | 4 | 1 |  3 | 1 | 3 | 1 |     0.00 |     0.0000 |  0 |  0 | 12 |  0 |\n",
       "| 2 | 102 | 1 |  8 | 4 | 1 | NA | 1 | 3 | 2 |     0.00 |     0.0000 | NA | NA | NA | NA |\n",
       "| 3 | 103 | 1 |  6 | 4 | 2 | NA | 1 | 3 | 2 |     0.00 |     0.0000 | NA | NA | NA | NA |\n",
       "| 4 | 201 | 2 | 36 | 1 | 1 |  5 | 2 | 2 | 1 | 36608.27 |   120.2737 | 12 |  0 |  0 |  0 |\n",
       "| 5 | 202 | 2 | 37 | 4 | 2 |  4 | 5 | 2 | 2 | 15692.09 | 15692.0888 |  0 |  0 |  0 |  0 |\n",
       "| 6 | 301 | 3 | 61 | 1 | 1 |  2 | 2 | 2 | 1 | 59044.59 |   106.5939 | 12 |  0 |  0 |  0 |\n",
       "\n"
      ],
      "text/plain": [
       "  PID HID AGE BAS SEX ISCED MST HHS PWHI INC      SOC        PL070 PL072 PL090\n",
       "1 101 1   54  4   1    3    1   3   1        0.00     0.0000  0     0    12   \n",
       "2 102 1    8  4   1   NA    1   3   2        0.00     0.0000 NA    NA    NA   \n",
       "3 103 1    6  4   2   NA    1   3   2        0.00     0.0000 NA    NA    NA   \n",
       "4 201 2   36  1   1    5    2   2   1    36608.27   120.2737 12     0     0   \n",
       "5 202 2   37  4   2    4    5   2   2    15692.09 15692.0888  0     0     0   \n",
       "6 301 3   61  1   1    2    2   2   1    59044.59   106.5939 12     0     0   \n",
       "  PL085\n",
       "1  0   \n",
       "2 NA   \n",
       "3 NA   \n",
       "4  0   \n",
       "5  0   \n",
       "6  0   "
      ]
     },
     "metadata": {},
     "output_type": "display_data"
    }
   ],
   "source": [
    "head(df_pers)"
   ]
  },
  {
   "cell_type": "code",
   "execution_count": 16,
   "id": "ce6eecb7",
   "metadata": {
    "vscode": {
     "languageId": "r"
    }
   },
   "outputs": [],
   "source": [
    "### Female Highest Earner ### \n",
    "# filter all females who earn the most and select their HID \n",
    "XX <- df_pers %>% filter(SEX == 2 & PWHI == 1) %>% select(HID) \n",
    "# filter all males who earn the most and select their HID \n",
    "XY <- df_pers %>% filter(SEX == 1 & PWHI == 1) %>% select(HID)"
   ]
  },
  {
   "cell_type": "code",
   "execution_count": 17,
   "id": "3e8a2a20",
   "metadata": {
    "vscode": {
     "languageId": "r"
    }
   },
   "outputs": [
    {
     "data": {
      "text/html": [
       "<table class=\"dataframe\">\n",
       "<caption>A data.frame: 6 × 1</caption>\n",
       "<thead>\n",
       "\t<tr><th></th><th scope=col>sex</th></tr>\n",
       "\t<tr><th></th><th scope=col>&lt;dbl&gt;</th></tr>\n",
       "</thead>\n",
       "<tbody>\n",
       "\t<tr><th scope=row>1790084</th><td>0</td></tr>\n",
       "\t<tr><th scope=row>1790085</th><td>0</td></tr>\n",
       "\t<tr><th scope=row>1790086</th><td>0</td></tr>\n",
       "\t<tr><th scope=row>1790087</th><td>0</td></tr>\n",
       "\t<tr><th scope=row>1</th><td>1</td></tr>\n",
       "\t<tr><th scope=row>2</th><td>1</td></tr>\n",
       "</tbody>\n",
       "</table>\n"
      ],
      "text/latex": [
       "A data.frame: 6 × 1\n",
       "\\begin{tabular}{r|l}\n",
       "  & sex\\\\\n",
       "  & <dbl>\\\\\n",
       "\\hline\n",
       "\t1790084 & 0\\\\\n",
       "\t1790085 & 0\\\\\n",
       "\t1790086 & 0\\\\\n",
       "\t1790087 & 0\\\\\n",
       "\t1 & 1\\\\\n",
       "\t2 & 1\\\\\n",
       "\\end{tabular}\n"
      ],
      "text/markdown": [
       "\n",
       "A data.frame: 6 × 1\n",
       "\n",
       "| <!--/--> | sex &lt;dbl&gt; |\n",
       "|---|---|\n",
       "| 1790084 | 0 |\n",
       "| 1790085 | 0 |\n",
       "| 1790086 | 0 |\n",
       "| 1790087 | 0 |\n",
       "| 1 | 1 |\n",
       "| 2 | 1 |\n",
       "\n"
      ],
      "text/plain": [
       "        sex\n",
       "1790084 0  \n",
       "1790085 0  \n",
       "1790086 0  \n",
       "1790087 0  \n",
       "1       1  \n",
       "2       1  "
      ]
     },
     "metadata": {},
     "output_type": "display_data"
    }
   ],
   "source": [
    "XX <- cbind(XX,rep(1,length(XX$HID))) # sets value for female\n",
    "XY <- cbind(XY,rep(0,length(XY$HID))) # sets value for male \n",
    "names(XX)[2] <- \"sex\"\n",
    "names(XY)[2] <- \"sex\"\n",
    "\n",
    "unsorted <- rbind(XX, XY) # stacks on top\n",
    "sex_of_head <- unsorted[order(unsorted$HID),] #sorts by HID for right order\n",
    "sex_of_head$HID <- NULL \n",
    "rm(XX,XY, unsorted)\n",
    "head(sex_of_head)\n",
    "#in the 1-st Household, the highest earner is male, in the 5-th, it's female etc..."
   ]
  },
  {
   "cell_type": "code",
   "execution_count": 18,
   "id": "af55ea65",
   "metadata": {
    "vscode": {
     "languageId": "r"
    }
   },
   "outputs": [],
   "source": [
    "educ_of_head <- df_pers %>% filter(PWHI == 1) %>% select(ISCED) #Education\n",
    "\n",
    "age_of_head <- df_pers %>% filter(PWHI == 1) %>% select(AGE) #Age\n",
    "\n",
    "MST_of_head <- df_pers %>% filter(PWHI == 1) %>% select(MST) #Maritial Status "
   ]
  },
  {
   "cell_type": "code",
   "execution_count": 19,
   "id": "f6d367c3",
   "metadata": {
    "vscode": {
     "languageId": "r"
    }
   },
   "outputs": [],
   "source": [
    "# Count all people in fulltime-work, for each Household\n",
    "n_people_in_work <- tapply(df_pers$BAS, df_pers$HID, function(x) sum(x == 1))"
   ]
  },
  {
   "cell_type": "code",
   "execution_count": 20,
   "id": "b6f5759c",
   "metadata": {
    "vscode": {
     "languageId": "r"
    }
   },
   "outputs": [
    {
     "data": {
      "text/html": [
       "<table class=\"dataframe\">\n",
       "<caption>A data.frame: 6 × 5</caption>\n",
       "<thead>\n",
       "\t<tr><th></th><th scope=col>PID</th><th scope=col>HID</th><th scope=col>AGE</th><th scope=col>PL070</th><th scope=col>PL072</th></tr>\n",
       "\t<tr><th></th><th scope=col>&lt;dbl&gt;</th><th scope=col>&lt;int&gt;</th><th scope=col>&lt;dbl&gt;</th><th scope=col>&lt;dbl&gt;</th><th scope=col>&lt;dbl&gt;</th></tr>\n",
       "</thead>\n",
       "<tbody>\n",
       "\t<tr><th scope=row>1</th><td>101</td><td>1</td><td>54</td><td> 0</td><td> 0</td></tr>\n",
       "\t<tr><th scope=row>2</th><td>102</td><td>1</td><td> 8</td><td>NA</td><td>NA</td></tr>\n",
       "\t<tr><th scope=row>3</th><td>103</td><td>1</td><td> 6</td><td>NA</td><td>NA</td></tr>\n",
       "\t<tr><th scope=row>4</th><td>201</td><td>2</td><td>36</td><td>12</td><td> 0</td></tr>\n",
       "\t<tr><th scope=row>5</th><td>202</td><td>2</td><td>37</td><td> 0</td><td> 0</td></tr>\n",
       "\t<tr><th scope=row>6</th><td>301</td><td>3</td><td>61</td><td>12</td><td> 0</td></tr>\n",
       "</tbody>\n",
       "</table>\n"
      ],
      "text/latex": [
       "A data.frame: 6 × 5\n",
       "\\begin{tabular}{r|lllll}\n",
       "  & PID & HID & AGE & PL070 & PL072\\\\\n",
       "  & <dbl> & <int> & <dbl> & <dbl> & <dbl>\\\\\n",
       "\\hline\n",
       "\t1 & 101 & 1 & 54 &  0 &  0\\\\\n",
       "\t2 & 102 & 1 &  8 & NA & NA\\\\\n",
       "\t3 & 103 & 1 &  6 & NA & NA\\\\\n",
       "\t4 & 201 & 2 & 36 & 12 &  0\\\\\n",
       "\t5 & 202 & 2 & 37 &  0 &  0\\\\\n",
       "\t6 & 301 & 3 & 61 & 12 &  0\\\\\n",
       "\\end{tabular}\n"
      ],
      "text/markdown": [
       "\n",
       "A data.frame: 6 × 5\n",
       "\n",
       "| <!--/--> | PID &lt;dbl&gt; | HID &lt;int&gt; | AGE &lt;dbl&gt; | PL070 &lt;dbl&gt; | PL072 &lt;dbl&gt; |\n",
       "|---|---|---|---|---|---|\n",
       "| 1 | 101 | 1 | 54 |  0 |  0 |\n",
       "| 2 | 102 | 1 |  8 | NA | NA |\n",
       "| 3 | 103 | 1 |  6 | NA | NA |\n",
       "| 4 | 201 | 2 | 36 | 12 |  0 |\n",
       "| 5 | 202 | 2 | 37 |  0 |  0 |\n",
       "| 6 | 301 | 3 | 61 | 12 |  0 |\n",
       "\n"
      ],
      "text/plain": [
       "  PID HID AGE PL070 PL072\n",
       "1 101 1   54   0     0   \n",
       "2 102 1    8  NA    NA   \n",
       "3 103 1    6  NA    NA   \n",
       "4 201 2   36  12     0   \n",
       "5 202 2   37   0     0   \n",
       "6 301 3   61  12     0   "
      ]
     },
     "metadata": {},
     "output_type": "display_data"
    }
   ],
   "source": [
    "#PL070: n months in fulltime\n",
    "#PL072: n months in parttime\n",
    "\n",
    "sub <- df_pers[,c(1,2,3,12,13)]\n",
    "head(sub)\n",
    "sub$PL072 <- sub$PL072 * 0.5  # weight the months: 1 year of halftime work == 6 months of fulltime work \n",
    "\n",
    "# Ignore evryone above \"working Age\": Not Uniform across Europe tho ...\n",
    "sub[\"PL070\"][sub$AGE >= 64, ] <- NA\n",
    "sub[\"PL072\"][sub$AGE >= 64, ] <- NA\n",
    " \n",
    "\n",
    "sub[\"work\"] <- rowSums(sub[,c(4,5)]) #combine their (weighted) total work \n",
    "work_intensity <- tapply(sub$work, sub$HID, \n",
    "                         function(x) sum(na.omit(x))/(12*length(na.omit(x)))) \n",
    "                         # length(na.omit(x)): number of people, that couldve worked that year (i.e. 16 <= AGE < 64)\n",
    "                         # multiply by 12, to get pontential working months of the household \n",
    "                         # sum(na.omit(x)): sum of the (weighted) Months actually worked \n",
    "                         # output: number between 0 and 1: 1 if every person of the Household worked fulltime the entire year "
   ]
  },
  {
   "cell_type": "code",
   "execution_count": 21,
   "id": "bcaedb53",
   "metadata": {
    "vscode": {
     "languageId": "r"
    }
   },
   "outputs": [],
   "source": [
    "##################\n",
    "### Save Frame ########################################################################\n",
    "x_frame <- as.data.frame(cbind(sex_of_head, educ_of_head,##############################\n",
    "                               MST_of_head, n_people_in_work, work_intensity))#########\n",
    "save(x_frame, file = \"C:/Users/zogaj/Bachelorarbeit/R/x_frame.RData\")##################\n",
    "#######################################################################################\n",
    "rm(list = ls()[!ls() %in% \"x_frame\"])"
   ]
  },
  {
   "cell_type": "markdown",
   "id": "c367a1d7",
   "metadata": {},
   "source": [
    "Combine both Dataframes and take a 1% sample of the overall population. "
   ]
  },
  {
   "cell_type": "code",
   "execution_count": 25,
   "id": "edfc2ea5",
   "metadata": {
    "vscode": {
     "languageId": "r"
    }
   },
   "outputs": [
    {
     "name": "stdout",
     "output_type": "stream",
     "text": [
      "'data.frame':\t37813 obs. of  11 variables:\n",
      " $ povCat          : num  1 1 1 4 4 1 1 1 1 1 ...\n",
      " $ matDep          : num  0 0 0 1 1 0 0 0 0 0 ...\n",
      " $ arp             : num  0 0 0 1 1 0 0 0 0 0 ...\n",
      " $ EHHS            : num  2.1 2.5 2.1 1 1 1 2.3 1.5 1.5 2 ...\n",
      " $ EDI             : num  26425 21627 19914 6844 343 ...\n",
      " $ n_dep           : num  1 1 2 4 6 1 1 3 1 1 ...\n",
      " $ sex             : num  1 1 1 1 1 1 0 0 0 0 ...\n",
      " $ ISCED           : num  3 5 5 3 3 3 3 2 3 3 ...\n",
      " $ MST             : num  2 2 2 5 1 2 2 1 1 2 ...\n",
      " $ n_people_in_work: int  1 3 1 0 0 1 1 2 2 2 ...\n",
      " $ work_intensity  : num  0.5 0.667 0.5 0 NaN ...\n"
     ]
    },
    {
     "data": {
      "text/html": [
       "<table class=\"dataframe\">\n",
       "<caption>A data.frame: 6 × 11</caption>\n",
       "<thead>\n",
       "\t<tr><th></th><th scope=col>povCat</th><th scope=col>matDep</th><th scope=col>arp</th><th scope=col>EHHS</th><th scope=col>EDI</th><th scope=col>n_dep</th><th scope=col>sex</th><th scope=col>ISCED</th><th scope=col>MST</th><th scope=col>n_people_in_work</th><th scope=col>work_intensity</th></tr>\n",
       "\t<tr><th></th><th scope=col>&lt;fct&gt;</th><th scope=col>&lt;fct&gt;</th><th scope=col>&lt;fct&gt;</th><th scope=col>&lt;dbl&gt;</th><th scope=col>&lt;dbl&gt;</th><th scope=col>&lt;dbl&gt;</th><th scope=col>&lt;fct&gt;</th><th scope=col>&lt;fct&gt;</th><th scope=col>&lt;dbl&gt;</th><th scope=col>&lt;dbl&gt;</th><th scope=col>&lt;dbl&gt;</th></tr>\n",
       "</thead>\n",
       "<tbody>\n",
       "\t<tr><th scope=row>953992</th><td>1</td><td>0</td><td>0</td><td>2.1</td><td>26425.256</td><td>1</td><td>1</td><td>3</td><td>2</td><td>1</td><td>0.5000000</td></tr>\n",
       "\t<tr><th scope=row>1578610</th><td>1</td><td>0</td><td>0</td><td>2.5</td><td>21627.100</td><td>1</td><td>1</td><td>5</td><td>2</td><td>3</td><td>0.6666667</td></tr>\n",
       "\t<tr><th scope=row>62355</th><td>1</td><td>0</td><td>0</td><td>2.1</td><td>19914.181</td><td>2</td><td>1</td><td>5</td><td>2</td><td>1</td><td>0.5000000</td></tr>\n",
       "\t<tr><th scope=row>1547518</th><td>4</td><td>1</td><td>1</td><td>1.0</td><td> 6844.375</td><td>4</td><td>1</td><td>3</td><td>5</td><td>0</td><td>0.0000000</td></tr>\n",
       "\t<tr><th scope=row>1317635</th><td>4</td><td>1</td><td>1</td><td>1.0</td><td>  343.424</td><td>6</td><td>1</td><td>3</td><td>1</td><td>0</td><td>      NaN</td></tr>\n",
       "\t<tr><th scope=row>1596220</th><td>1</td><td>0</td><td>0</td><td>1.0</td><td>38475.244</td><td>1</td><td>1</td><td>3</td><td>2</td><td>1</td><td>1.0000000</td></tr>\n",
       "</tbody>\n",
       "</table>\n"
      ],
      "text/latex": [
       "A data.frame: 6 × 11\n",
       "\\begin{tabular}{r|lllllllllll}\n",
       "  & povCat & matDep & arp & EHHS & EDI & n\\_dep & sex & ISCED & MST & n\\_people\\_in\\_work & work\\_intensity\\\\\n",
       "  & <fct> & <fct> & <fct> & <dbl> & <dbl> & <dbl> & <fct> & <fct> & <dbl> & <dbl> & <dbl>\\\\\n",
       "\\hline\n",
       "\t953992 & 1 & 0 & 0 & 2.1 & 26425.256 & 1 & 1 & 3 & 2 & 1 & 0.5000000\\\\\n",
       "\t1578610 & 1 & 0 & 0 & 2.5 & 21627.100 & 1 & 1 & 5 & 2 & 3 & 0.6666667\\\\\n",
       "\t62355 & 1 & 0 & 0 & 2.1 & 19914.181 & 2 & 1 & 5 & 2 & 1 & 0.5000000\\\\\n",
       "\t1547518 & 4 & 1 & 1 & 1.0 &  6844.375 & 4 & 1 & 3 & 5 & 0 & 0.0000000\\\\\n",
       "\t1317635 & 4 & 1 & 1 & 1.0 &   343.424 & 6 & 1 & 3 & 1 & 0 &       NaN\\\\\n",
       "\t1596220 & 1 & 0 & 0 & 1.0 & 38475.244 & 1 & 1 & 3 & 2 & 1 & 1.0000000\\\\\n",
       "\\end{tabular}\n"
      ],
      "text/markdown": [
       "\n",
       "A data.frame: 6 × 11\n",
       "\n",
       "| <!--/--> | povCat &lt;fct&gt; | matDep &lt;fct&gt; | arp &lt;fct&gt; | EHHS &lt;dbl&gt; | EDI &lt;dbl&gt; | n_dep &lt;dbl&gt; | sex &lt;fct&gt; | ISCED &lt;fct&gt; | MST &lt;dbl&gt; | n_people_in_work &lt;dbl&gt; | work_intensity &lt;dbl&gt; |\n",
       "|---|---|---|---|---|---|---|---|---|---|---|---|\n",
       "| 953992 | 1 | 0 | 0 | 2.1 | 26425.256 | 1 | 1 | 3 | 2 | 1 | 0.5000000 |\n",
       "| 1578610 | 1 | 0 | 0 | 2.5 | 21627.100 | 1 | 1 | 5 | 2 | 3 | 0.6666667 |\n",
       "| 62355 | 1 | 0 | 0 | 2.1 | 19914.181 | 2 | 1 | 5 | 2 | 1 | 0.5000000 |\n",
       "| 1547518 | 4 | 1 | 1 | 1.0 |  6844.375 | 4 | 1 | 3 | 5 | 0 | 0.0000000 |\n",
       "| 1317635 | 4 | 1 | 1 | 1.0 |   343.424 | 6 | 1 | 3 | 1 | 0 |       NaN |\n",
       "| 1596220 | 1 | 0 | 0 | 1.0 | 38475.244 | 1 | 1 | 3 | 2 | 1 | 1.0000000 |\n",
       "\n"
      ],
      "text/plain": [
       "        povCat matDep arp EHHS EDI       n_dep sex ISCED MST n_people_in_work\n",
       "953992  1      0      0   2.1  26425.256 1     1   3     2   1               \n",
       "1578610 1      0      0   2.5  21627.100 1     1   5     2   3               \n",
       "62355   1      0      0   2.1  19914.181 2     1   5     2   1               \n",
       "1547518 4      1      1   1.0   6844.375 4     1   3     5   0               \n",
       "1317635 4      1      1   1.0    343.424 6     1   3     1   0               \n",
       "1596220 1      0      0   1.0  38475.244 1     1   3     2   1               \n",
       "        work_intensity\n",
       "953992  0.5000000     \n",
       "1578610 0.6666667     \n",
       "62355   0.5000000     \n",
       "1547518 0.0000000     \n",
       "1317635       NaN     \n",
       "1596220 1.0000000     "
      ]
     },
     "metadata": {},
     "output_type": "display_data"
    }
   ],
   "source": [
    "setwd(\"C:/Users/zogaj/Bachelorarbeit/R\")\n",
    "load(\"y_frame.RData\")\n",
    "load(\"x_frame.RData\")\n",
    "\n",
    "df <- cbind(y_frame, x_frame)\n",
    "\n",
    "\n",
    "sample_size <- round(length(df[,1]) * 0.01, 0) # 1 % samplesize \n",
    "\n",
    "set.seed(123)\n",
    "df <- df[sample(nrow(df), sample_size), ]\n",
    "\n",
    "str(df)\n",
    "df$povCat <- as.factor(df$povCat)\n",
    "df$ISCED <- as.factor(df$ISCED)\n",
    "df$arp <- as.factor(df$arp)\n",
    "df$matDep <- as.factor(df$matDep)\n",
    "df$sex <- as.factor(df$sex) # male = 0 --> reference; female = 1\n",
    "df$n_people_in_work <- as.numeric(df$n_people_in_work)\n",
    "rm(x_frame, y_frame)\n",
    "head(df)"
   ]
  },
  {
   "attachments": {},
   "cell_type": "markdown",
   "id": "16871ecb",
   "metadata": {},
   "source": [
    "From Here the actuall analysis of the Data beginns. We want to identify factors, that increase the Risk of a Household beeing poor. \n",
    "For that we can take following independt Variables: \n",
    "\n",
    "- EHHS: Equivlized household size\n",
    "- sex : 1 if female leads the Household; 0 if male \n",
    "- MST: Maritial Status of Household-head\n",
    "- n_people_at_work\n",
    "- work_intensity: percentage of total work done / all work \"possible\" \n",
    "- ISCED: Education of Household-head by ISCED standards \n",
    "\n",
    "Multiple Regressiontechniques (GLM) are possible:\n",
    "\n",
    "- OLS: EDI (Equialized disposable Income) ~ **X**\n",
    "- Logit: arp (at risk of poverty) or matDep (materialy Deprived) ~ **X**\n",
    "- multinomial: povCat (poverty Category) ~ **X**\n",
    "- poisson: n_dep (number of deprivations) ~ **X**\n"
   ]
  }
 ],
 "metadata": {
  "kernelspec": {
   "display_name": "R",
   "language": "R",
   "name": "ir"
  },
  "language_info": {
   "codemirror_mode": "r",
   "file_extension": ".r",
   "mimetype": "text/x-r-source",
   "name": "R",
   "pygments_lexer": "r",
   "version": "4.1.2"
  }
 },
 "nbformat": 4,
 "nbformat_minor": 5
}
